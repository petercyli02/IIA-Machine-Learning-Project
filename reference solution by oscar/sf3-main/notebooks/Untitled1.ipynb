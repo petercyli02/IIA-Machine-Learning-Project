{
 "cells": [
  {
   "cell_type": "code",
   "execution_count": 1,
   "id": "f67b12b2",
   "metadata": {},
   "outputs": [],
   "source": [
    "# import CartPole.py from local directory\n",
    "import CartPole, CartPole1, sf3utility\n",
    "# import matplotlib.collections\n",
    "# import matplotlib.pyplot as plt\n",
    "import numpy as np\n",
    "# import scipy.interpolate, scipy.stats.qmc\n",
    "# import random, copy\n",
    "\n",
    "# plt.rcParams[\"font.family\"] = \"Georgia\"\n",
    "# #plt.rcParams['figure.figsize'] = [9.0, 7.0]\n",
    "# #plt.rcParams['figure.dpi'] = 400\n",
    "\n",
    "# # store results for later\n",
    "# cache = {}"
   ]
  },
  {
   "cell_type": "code",
   "execution_count": 2,
   "id": "5e824b4b",
   "metadata": {},
   "outputs": [],
   "source": [
    "%matplotlib notebook"
   ]
  },
  {
   "cell_type": "code",
   "execution_count": 3,
   "id": "ff308edd",
   "metadata": {},
   "outputs": [
    {
     "name": "stdout",
     "output_type": "stream",
     "text": [
      "[-133.04609469  -29.52057639   -2.92571801    3.87330965   -3.51632846]\n",
      "[-133.03707665  -29.62662263   -2.86775968    3.06372994   -3.51632846]\n",
      "[-79.90392633 -18.34645551  -3.92189998  -6.15577992  -1.91388081]\n",
      "[-79.84114082 -18.00163722  -4.23552794  -3.80764153  -1.91388081]\n",
      "[67.8492224  19.36998407  4.8489027  -1.44302427  2.8419336 ]\n",
      "[67.93572963 18.88342831  4.04774958 -6.46595089  2.8419336 ]\n",
      "[-54.99868227  -9.27951932   4.65976586  -1.40917602  -0.64294335]\n",
      "[-55.3108117  -10.42250965   2.98717637  -8.93746703  -0.64294335]\n",
      "[35.28333283 10.52975672 -2.12487044  0.40708295  1.60469935]\n",
      "[35.27463486 10.46437547 -2.16685821 -0.55212906  1.60469935]\n",
      "[131.47198323  31.09834422   4.49208124   7.87983307   3.59921077]\n",
      "[130.80481036  29.94520177   3.92053891  -9.18853883   3.59921077]\n",
      "[38.37753418 15.68268845 -2.9820813   4.25005563  2.58913628]\n",
      "[38.38690629 15.65940721 -2.92440279  4.0940824   2.58913628]\n",
      "[89.3976553  24.99712771 -3.04007186 -3.6610341   3.57835671]\n",
      "[89.38876135 25.0300068  -3.06303218 -3.38745662  3.57835671]\n",
      "[-184.26137097  -42.28132055    2.17815845    0.46941632   -4.89237897]\n",
      "[-184.25094061  -42.27649044    2.20401914    0.51898616   -4.89237897]\n",
      "[121.43677469  29.3084414   -5.06326313   1.10166197   3.56328533]\n",
      "[121.90633375  29.88801113 -16.74607516   6.20972964   3.56328533]\n"
     ]
    }
   ],
   "source": [
    "states = np.random.rand( 10,5 ) * 10 - 5\n",
    "\n",
    "for state in states:\n",
    "\n",
    "    s5 = sRK4 = state\n",
    "    \n",
    "    for x in range(40):\n",
    "        s5   = CartPole.perform_action5( s5 )\n",
    "        sRK4 = CartPole.perform_action_RK4( sRK4 )\n",
    "        \n",
    "    print( s5 )\n",
    "    print( sRK4 )"
   ]
  }
 ],
 "metadata": {
  "kernelspec": {
   "display_name": "Python 3 (ipykernel)",
   "language": "python",
   "name": "python3"
  },
  "language_info": {
   "codemirror_mode": {
    "name": "ipython",
    "version": 3
   },
   "file_extension": ".py",
   "mimetype": "text/x-python",
   "name": "python",
   "nbconvert_exporter": "python",
   "pygments_lexer": "ipython3",
   "version": "3.10.4"
  }
 },
 "nbformat": 4,
 "nbformat_minor": 5
}
